{
 "cells": [
  {
   "cell_type": "code",
   "execution_count": 1,
   "id": "ec7fba1c",
   "metadata": {},
   "outputs": [],
   "source": [
    "import numpy as np"
   ]
  },
  {
   "cell_type": "markdown",
   "id": "e6a26695",
   "metadata": {},
   "source": [
    "### 1 - Создать одномерный массив Numpy под названием a из 12 последовательных целых чисел чисел от 12 до 24 невключительно"
   ]
  },
  {
   "cell_type": "code",
   "execution_count": 2,
   "id": "bc2bd3ec",
   "metadata": {},
   "outputs": [
    {
     "name": "stdout",
     "output_type": "stream",
     "text": [
      "[12 13 14 15 16 17 18 19 20 21 22 23]\n"
     ]
    }
   ],
   "source": [
    "a = np.arange (12, 24)\n",
    "print (a)"
   ]
  },
  {
   "cell_type": "markdown",
   "id": "1903efe2",
   "metadata": {},
   "source": [
    "### 2 - Создать 5 двумерных массивов разной формы из массива a. Не использовать в аргументах метода reshape число -1."
   ]
  },
  {
   "cell_type": "code",
   "execution_count": 3,
   "id": "539d691f",
   "metadata": {},
   "outputs": [
    {
     "data": {
      "text/plain": [
       "array([[12, 13, 14, 15],\n",
       "       [16, 17, 18, 19],\n",
       "       [20, 21, 22, 23]])"
      ]
     },
     "execution_count": 3,
     "metadata": {},
     "output_type": "execute_result"
    }
   ],
   "source": [
    "a.reshape(3, 4)"
   ]
  },
  {
   "cell_type": "code",
   "execution_count": 4,
   "id": "023c00f7",
   "metadata": {},
   "outputs": [
    {
     "data": {
      "text/plain": [
       "array([[12, 13, 14],\n",
       "       [15, 16, 17],\n",
       "       [18, 19, 20],\n",
       "       [21, 22, 23]])"
      ]
     },
     "execution_count": 4,
     "metadata": {},
     "output_type": "execute_result"
    }
   ],
   "source": [
    "a.reshape(4, 3)"
   ]
  },
  {
   "cell_type": "code",
   "execution_count": 5,
   "id": "6da25161",
   "metadata": {},
   "outputs": [
    {
     "data": {
      "text/plain": [
       "array([[12, 13, 14, 15, 16, 17],\n",
       "       [18, 19, 20, 21, 22, 23]])"
      ]
     },
     "execution_count": 5,
     "metadata": {},
     "output_type": "execute_result"
    }
   ],
   "source": [
    "a.reshape(2, 6)"
   ]
  },
  {
   "cell_type": "code",
   "execution_count": 6,
   "id": "a5456aed",
   "metadata": {},
   "outputs": [
    {
     "data": {
      "text/plain": [
       "array([[12, 13],\n",
       "       [14, 15],\n",
       "       [16, 17],\n",
       "       [18, 19],\n",
       "       [20, 21],\n",
       "       [22, 23]])"
      ]
     },
     "execution_count": 6,
     "metadata": {},
     "output_type": "execute_result"
    }
   ],
   "source": [
    "a.reshape(6, 2)"
   ]
  },
  {
   "cell_type": "code",
   "execution_count": 7,
   "id": "57e27ead",
   "metadata": {},
   "outputs": [
    {
     "name": "stdout",
     "output_type": "stream",
     "text": [
      "[[12]\n",
      " [13]\n",
      " [14]\n",
      " [15]\n",
      " [16]\n",
      " [17]\n",
      " [18]\n",
      " [19]\n",
      " [20]\n",
      " [21]\n",
      " [22]\n",
      " [23]]\n"
     ]
    }
   ],
   "source": [
    "a.resize(12, 1)\n",
    "print (a)"
   ]
  },
  {
   "cell_type": "markdown",
   "id": "89a1e464",
   "metadata": {},
   "source": [
    "### 3- Создать 5 двумерных массивов разной формы из массива a. Использовать в аргументах метода reshape число -1 (в трех примерах - для обозначения числа столбцов, в двух - для строк)."
   ]
  },
  {
   "cell_type": "code",
   "execution_count": 8,
   "id": "a0d2872e",
   "metadata": {},
   "outputs": [
    {
     "data": {
      "text/plain": [
       "array([[12, 13],\n",
       "       [14, 15],\n",
       "       [16, 17],\n",
       "       [18, 19],\n",
       "       [20, 21],\n",
       "       [22, 23]])"
      ]
     },
     "execution_count": 8,
     "metadata": {},
     "output_type": "execute_result"
    }
   ],
   "source": [
    "a.reshape(6, -1)"
   ]
  },
  {
   "cell_type": "code",
   "execution_count": 9,
   "id": "f72be516",
   "metadata": {},
   "outputs": [
    {
     "data": {
      "text/plain": [
       "array([[12, 13, 14],\n",
       "       [15, 16, 17],\n",
       "       [18, 19, 20],\n",
       "       [21, 22, 23]])"
      ]
     },
     "execution_count": 9,
     "metadata": {},
     "output_type": "execute_result"
    }
   ],
   "source": [
    "np.reshape(a, (4, -1))"
   ]
  },
  {
   "cell_type": "code",
   "execution_count": 10,
   "id": "f25d404b",
   "metadata": {},
   "outputs": [
    {
     "data": {
      "text/plain": [
       "array([[12, 13, 14, 15],\n",
       "       [16, 17, 18, 19],\n",
       "       [20, 21, 22, 23]])"
      ]
     },
     "execution_count": 10,
     "metadata": {},
     "output_type": "execute_result"
    }
   ],
   "source": [
    "np.reshape(a, (3, -1))"
   ]
  },
  {
   "cell_type": "code",
   "execution_count": 11,
   "id": "222c220a",
   "metadata": {},
   "outputs": [
    {
     "data": {
      "text/plain": [
       "array([[12, 13],\n",
       "       [14, 15],\n",
       "       [16, 17],\n",
       "       [18, 19],\n",
       "       [20, 21],\n",
       "       [22, 23]])"
      ]
     },
     "execution_count": 11,
     "metadata": {},
     "output_type": "execute_result"
    }
   ],
   "source": [
    "a.reshape(-1, 2)"
   ]
  },
  {
   "cell_type": "code",
   "execution_count": 12,
   "id": "e0db070f",
   "metadata": {},
   "outputs": [
    {
     "data": {
      "text/plain": [
       "array([[12, 13, 14, 15, 16, 17],\n",
       "       [18, 19, 20, 21, 22, 23]])"
      ]
     },
     "execution_count": 12,
     "metadata": {},
     "output_type": "execute_result"
    }
   ],
   "source": [
    "np.reshape (a, (-1, 6))"
   ]
  },
  {
   "cell_type": "markdown",
   "id": "8ee7fc37",
   "metadata": {},
   "source": [
    "### 4 - Можно ли массив Numpy, состоящий из одного столбца и 12 строк, назвать одномерным?"
   ]
  },
  {
   "cell_type": "code",
   "execution_count": 13,
   "id": "8f04e5bd",
   "metadata": {},
   "outputs": [
    {
     "data": {
      "text/plain": [
       "array([[12],\n",
       "       [13],\n",
       "       [14],\n",
       "       [15],\n",
       "       [16],\n",
       "       [17],\n",
       "       [18],\n",
       "       [19],\n",
       "       [20],\n",
       "       [21],\n",
       "       [22],\n",
       "       [23]])"
      ]
     },
     "execution_count": 13,
     "metadata": {},
     "output_type": "execute_result"
    }
   ],
   "source": [
    "a.reshape(12, -1)"
   ]
  },
  {
   "cell_type": "code",
   "execution_count": 14,
   "id": "9d13852b",
   "metadata": {},
   "outputs": [
    {
     "data": {
      "text/plain": [
       "2"
      ]
     },
     "execution_count": 14,
     "metadata": {},
     "output_type": "execute_result"
    }
   ],
   "source": [
    "a.ndim"
   ]
  },
  {
   "cell_type": "markdown",
   "id": "bcc5db5a",
   "metadata": {},
   "source": [
    "### ответ - нет"
   ]
  },
  {
   "cell_type": "markdown",
   "id": "a979b8eb",
   "metadata": {},
   "source": [
    "### 5 - Создать массив из 3 строк и 4 столбцов, состоящий из случайных чисел с плавающей запятой из нормального распределения со средним, равным 0 и среднеквадратичным отклонением, равным 1.0. Получить из этого массива одномерный массив с таким же атрибутом size, как и исходный массив."
   ]
  },
  {
   "cell_type": "code",
   "execution_count": 15,
   "id": "8de5069a",
   "metadata": {},
   "outputs": [
    {
     "name": "stdout",
     "output_type": "stream",
     "text": [
      "[[ 1.3874911   1.18792623 -0.41761147 -1.024716  ]\n",
      " [ 2.43789323  1.24566786  0.51005171 -0.1866607 ]\n",
      " [-0.30218391 -0.4772921  -1.13280762 -0.04150863]]\n"
     ]
    }
   ],
   "source": [
    "a = np.random.randn(3, 4)\n",
    "print (a)"
   ]
  },
  {
   "cell_type": "code",
   "execution_count": 16,
   "id": "c7e424e3",
   "metadata": {},
   "outputs": [
    {
     "name": "stdout",
     "output_type": "stream",
     "text": [
      "[ 1.3874911   1.18792623 -0.41761147 -1.024716    2.43789323  1.24566786\n",
      "  0.51005171 -0.1866607  -0.30218391 -0.4772921  -1.13280762 -0.04150863]\n"
     ]
    }
   ],
   "source": [
    "b = a.flatten()\n",
    "print (b)"
   ]
  },
  {
   "cell_type": "code",
   "execution_count": 17,
   "id": "a2904632",
   "metadata": {},
   "outputs": [
    {
     "data": {
      "text/plain": [
       "True"
      ]
     },
     "execution_count": 17,
     "metadata": {},
     "output_type": "execute_result"
    }
   ],
   "source": [
    "a.size == b.size"
   ]
  },
  {
   "cell_type": "markdown",
   "id": "86fd0aee",
   "metadata": {},
   "source": [
    "### 6 - Создать массив a, состоящий из целых чисел, убывающих от 20 до 0 невключительно с интервалом 2."
   ]
  },
  {
   "cell_type": "code",
   "execution_count": 18,
   "id": "931c1409",
   "metadata": {},
   "outputs": [
    {
     "name": "stdout",
     "output_type": "stream",
     "text": [
      "[20 18 16 14 12 10  8  6  4  2]\n"
     ]
    }
   ],
   "source": [
    "a = np.arange (20, 0, -2)\n",
    "print(a)"
   ]
  },
  {
   "cell_type": "markdown",
   "id": "7a94f38c",
   "metadata": {},
   "source": [
    "###  7 - Создать массив b, состоящий из 1 строки и 10 столбцов: целых чисел, убывающих от 20 до 1 невключительно с интервалом 2. В чем разница между массивами a и b?"
   ]
  },
  {
   "cell_type": "code",
   "execution_count": 19,
   "id": "8c938482",
   "metadata": {},
   "outputs": [
    {
     "name": "stdout",
     "output_type": "stream",
     "text": [
      "[[20 18 16 14 12 10  8  6  4  2]]\n"
     ]
    }
   ],
   "source": [
    "b = np.arange (20, 1, -2).reshape(1, 10)\n",
    "print (b)"
   ]
  },
  {
   "cell_type": "code",
   "execution_count": 20,
   "id": "432a42bd",
   "metadata": {},
   "outputs": [
    {
     "data": {
      "text/plain": [
       "False"
      ]
     },
     "execution_count": 20,
     "metadata": {},
     "output_type": "execute_result"
    }
   ],
   "source": [
    "np.array_equal(a, b)"
   ]
  },
  {
   "cell_type": "markdown",
   "id": "c6d00efe",
   "metadata": {},
   "source": [
    "### ответ - а - одномерный массив, b - многомерный массив. Индексы элементов из а-массива: 0, 1, 2, 3,.. Индексы элементов  b-массива: 00, 01, 02, 03,..."
   ]
  },
  {
   "cell_type": "markdown",
   "id": "aa4ce41a",
   "metadata": {},
   "source": [
    "### 8 -  Вертикально соединить массивы a и b. a - двумерный массив из нулей, число строк которого больше 1 и на 1 меньше, чем число строк двумерного массива b, состоящего из единиц. Итоговый массив v должен иметь атрибут size, равный 10."
   ]
  },
  {
   "cell_type": "code",
   "execution_count": 21,
   "id": "05542b86",
   "metadata": {},
   "outputs": [
    {
     "name": "stdout",
     "output_type": "stream",
     "text": [
      "Массив a \n",
      "[[0. 0.]\n",
      " [0. 0.]]\n",
      "Массив b \n",
      "[[1. 1.]\n",
      " [1. 1.]\n",
      " [1. 1.]]\n"
     ]
    }
   ],
   "source": [
    "a = np.zeros ((2, 2))\n",
    "b = np.ones ((3,2))\n",
    "print('Массив a ', a, sep='\\n')\n",
    "print('Массив b ', b, sep='\\n')"
   ]
  },
  {
   "cell_type": "code",
   "execution_count": 22,
   "id": "7777eeb0",
   "metadata": {},
   "outputs": [
    {
     "name": "stdout",
     "output_type": "stream",
     "text": [
      "[[0. 0.]\n",
      " [0. 0.]\n",
      " [1. 1.]\n",
      " [1. 1.]\n",
      " [1. 1.]]\n"
     ]
    },
    {
     "data": {
      "text/plain": [
       "10"
      ]
     },
     "execution_count": 22,
     "metadata": {},
     "output_type": "execute_result"
    }
   ],
   "source": [
    "v = np.concatenate((a, b), axis = 0)\n",
    "print (v)\n",
    "v.size"
   ]
  },
  {
   "cell_type": "markdown",
   "id": "d8a7572d",
   "metadata": {},
   "source": [
    "### 9 - Создать одномерный массив а, состоящий из последовательности целых чисел от 0 до 12. Поменять форму этого массива, чтобы получилась матрица A (двумерный массив Numpy), состоящая из 4 строк и 3 столбцов. Получить матрицу At путем транспонирования матрицы A. Получить матрицу B, умножив матрицу A на матрицу At с помощью матричного умножения. Какой размер имеет матрица B? Получится ли вычислить обратную матрицу для матрицы B и почему?"
   ]
  },
  {
   "cell_type": "code",
   "execution_count": 23,
   "id": "ef0c5d40",
   "metadata": {},
   "outputs": [
    {
     "name": "stdout",
     "output_type": "stream",
     "text": [
      "[ 0  1  2  3  4  5  6  7  8  9 10 11]\n"
     ]
    }
   ],
   "source": [
    "a = np.arange (0, 12)\n",
    "print (a)"
   ]
  },
  {
   "cell_type": "code",
   "execution_count": 24,
   "id": "84f77e02",
   "metadata": {},
   "outputs": [
    {
     "name": "stdout",
     "output_type": "stream",
     "text": [
      "Матрица А \n",
      "[[ 0  1  2]\n",
      " [ 3  4  5]\n",
      " [ 6  7  8]\n",
      " [ 9 10 11]]\n"
     ]
    }
   ],
   "source": [
    "A = a.reshape(4, 3)\n",
    "print('Матрица А ', A, sep='\\n')"
   ]
  },
  {
   "cell_type": "code",
   "execution_count": 25,
   "id": "e805c24d",
   "metadata": {},
   "outputs": [
    {
     "name": "stdout",
     "output_type": "stream",
     "text": [
      "Матрица Аt \n",
      "[[ 0  3  6  9]\n",
      " [ 1  4  7 10]\n",
      " [ 2  5  8 11]]\n"
     ]
    }
   ],
   "source": [
    "At = A.transpose()\n",
    "print('Матрица Аt ', At, sep='\\n')"
   ]
  },
  {
   "cell_type": "code",
   "execution_count": 26,
   "id": "7ef1edf8",
   "metadata": {},
   "outputs": [
    {
     "name": "stdout",
     "output_type": "stream",
     "text": [
      "Матрица B \n",
      "[[  5  14  23  32]\n",
      " [ 14  50  86 122]\n",
      " [ 23  86 149 212]\n",
      " [ 32 122 212 302]]\n"
     ]
    }
   ],
   "source": [
    "B = np.dot (A, At)\n",
    "print('Матрица B ', B, sep='\\n')"
   ]
  },
  {
   "cell_type": "markdown",
   "id": "e2e9b854",
   "metadata": {},
   "source": [
    "### результат: при умножении матриц число строк итоговой матрицы (B) равно число строк первой матрицы (A), а число столбцов - второй матрицы (At)."
   ]
  },
  {
   "cell_type": "code",
   "execution_count": 27,
   "id": "c7eaf103",
   "metadata": {},
   "outputs": [
    {
     "data": {
      "text/plain": [
       "16"
      ]
     },
     "execution_count": 27,
     "metadata": {},
     "output_type": "execute_result"
    }
   ],
   "source": [
    "B.size"
   ]
  },
  {
   "cell_type": "code",
   "execution_count": 28,
   "id": "e0d7f1c0",
   "metadata": {},
   "outputs": [
    {
     "data": {
      "text/plain": [
       "0.0"
      ]
     },
     "execution_count": 28,
     "metadata": {},
     "output_type": "execute_result"
    }
   ],
   "source": [
    "np.linalg.det(B)"
   ]
  },
  {
   "cell_type": "markdown",
   "id": "b71ec0fa",
   "metadata": {},
   "source": [
    "### Ответ: вычислить обратную матрицу для B невозможно, т.к. определитель матрицы B равен 0."
   ]
  },
  {
   "cell_type": "markdown",
   "id": "86da6d66",
   "metadata": {},
   "source": [
    "### 10 - Инициализируйте генератор случайных числе с помощью объекта seed, равного 42."
   ]
  },
  {
   "cell_type": "code",
   "execution_count": 29,
   "id": "c0950428",
   "metadata": {},
   "outputs": [],
   "source": [
    "np.random.seed(42)"
   ]
  },
  {
   "cell_type": "markdown",
   "id": "56134276",
   "metadata": {},
   "source": [
    "### 11 - Создайте одномерный массив c, составленный из последовательности 16-ти случайных равномерно распределенных целых чисел от 0 до 16 невключительно. "
   ]
  },
  {
   "cell_type": "code",
   "execution_count": 30,
   "id": "002ad57d",
   "metadata": {},
   "outputs": [
    {
     "name": "stdout",
     "output_type": "stream",
     "text": [
      "[ 6  3 12 14 10  7 12  4  6  9  2  6 10 10  7  4]\n"
     ]
    }
   ],
   "source": [
    "a = np.random.randint(0, 16, 16)\n",
    "print (a)"
   ]
  },
  {
   "cell_type": "markdown",
   "id": "50e7cdaa",
   "metadata": {},
   "source": [
    "### 12 - Поменяйте его форму так, чтобы получилась квадратная матрица C. Получите матрицу D, поэлементно прибавив матрицу B из предыдущего вопроса к матрице C, умноженной на 10. Вычислите определитель, ранг и обратную матрицу D_inv для D."
   ]
  },
  {
   "cell_type": "code",
   "execution_count": 31,
   "id": "67b3cdbd",
   "metadata": {},
   "outputs": [
    {
     "data": {
      "text/plain": [
       "4.0"
      ]
     },
     "execution_count": 31,
     "metadata": {},
     "output_type": "execute_result"
    }
   ],
   "source": [
    "np.sqrt(a.size)"
   ]
  },
  {
   "cell_type": "code",
   "execution_count": 32,
   "id": "2173441c",
   "metadata": {},
   "outputs": [
    {
     "name": "stdout",
     "output_type": "stream",
     "text": [
      "Матрица C \n",
      "[[ 6  3 12 14]\n",
      " [10  7 12  4]\n",
      " [ 6  9  2  6]\n",
      " [10 10  7  4]]\n",
      "Матрица B \n",
      "[[  5  14  23  32]\n",
      " [ 14  50  86 122]\n",
      " [ 23  86 149 212]\n",
      " [ 32 122 212 302]]\n"
     ]
    },
    {
     "data": {
      "text/plain": [
       "True"
      ]
     },
     "execution_count": 32,
     "metadata": {},
     "output_type": "execute_result"
    }
   ],
   "source": [
    "C = a.reshape((4, 4))\n",
    "print('Матрица C ', C, sep='\\n')\n",
    "print('Матрица B ', B, sep='\\n')\n",
    "C.shape == B.shape"
   ]
  },
  {
   "cell_type": "code",
   "execution_count": 33,
   "id": "4632a13a",
   "metadata": {},
   "outputs": [
    {
     "name": "stdout",
     "output_type": "stream",
     "text": [
      "Матрица D\n",
      "[[ 65  44 143 172]\n",
      " [114 120 206 162]\n",
      " [ 83 176 169 272]\n",
      " [132 222 282 342]]\n"
     ]
    }
   ],
   "source": [
    "D = B + C*10\n",
    "print('Матрица D', D, sep='\\n')"
   ]
  },
  {
   "cell_type": "code",
   "execution_count": 34,
   "id": "499412de",
   "metadata": {},
   "outputs": [
    {
     "data": {
      "text/plain": [
       "-28511999.999999944"
      ]
     },
     "execution_count": 34,
     "metadata": {},
     "output_type": "execute_result"
    }
   ],
   "source": [
    "np.linalg.det(D)"
   ]
  },
  {
   "cell_type": "code",
   "execution_count": 35,
   "id": "4150cdaf",
   "metadata": {},
   "outputs": [
    {
     "data": {
      "text/plain": [
       "4"
      ]
     },
     "execution_count": 35,
     "metadata": {},
     "output_type": "execute_result"
    }
   ],
   "source": [
    "np.linalg.matrix_rank(D, tol=None, hermitian=False)"
   ]
  },
  {
   "cell_type": "code",
   "execution_count": 36,
   "id": "b0786ff7",
   "metadata": {},
   "outputs": [
    {
     "name": "stdout",
     "output_type": "stream",
     "text": [
      "Матрица D_inv\n",
      "[[ 0.00935396  0.04486532  0.05897517 -0.07286055]\n",
      " [-0.01503577 -0.00122896 -0.00192971  0.00967873]\n",
      " [-0.00356692 -0.01782828 -0.04152146  0.04326178]\n",
      " [ 0.00909091 -0.00181818  0.01272727 -0.01090909]]\n"
     ]
    }
   ],
   "source": [
    "D_inv = np.linalg.inv(D)\n",
    "print('Матрица D_inv', D_inv, sep='\\n')"
   ]
  },
  {
   "cell_type": "markdown",
   "id": "66578f8d",
   "metadata": {},
   "source": [
    "### Приравняйте к нулю отрицательные числа в матрице D_inv, а положительные - к единице. Убедитесь, что в матрице D_inv остались только нули и единицы. С помощью функции numpy.where, используя матрицу D_inv в качестве маски, а матрицы B и C - в качестве источников данных, получите матрицу E размером 4x4.  Элементы матрицы E, для которых соответствующий элемент матрицы D_inv равен 1, должны быть равны соответствующему элементу матрицы B, а элементы матрицы E, для которых соответствующий элемент матрицы D_inv равен 0, должны быть равны соответствующему элементу матрицы C."
   ]
  },
  {
   "cell_type": "code",
   "execution_count": 37,
   "id": "56fd7a2e",
   "metadata": {},
   "outputs": [
    {
     "name": "stdout",
     "output_type": "stream",
     "text": [
      "[[1. 1. 1. 0.]\n",
      " [0. 0. 0. 1.]\n",
      " [0. 0. 0. 1.]\n",
      " [1. 0. 1. 0.]]\n"
     ]
    }
   ],
   "source": [
    "mask_positive = D_inv > 0\n",
    "mask_negative = D_inv < 0\n",
    "D_inv[mask_positive] = 1\n",
    "D_inv[mask_negative] = 0\n",
    "print(D_inv)"
   ]
  },
  {
   "cell_type": "code",
   "execution_count": 38,
   "id": "a66820fe",
   "metadata": {},
   "outputs": [
    {
     "name": "stdout",
     "output_type": "stream",
     "text": [
      "Матрица E\n",
      "[[  5  14  23  14]\n",
      " [ 10   7  12 122]\n",
      " [  6   9   2 212]\n",
      " [ 32  10 212   4]]\n"
     ]
    }
   ],
   "source": [
    "E = np.where(D_inv, B, C)\n",
    "print('Матрица E', E, sep='\\n')"
   ]
  },
  {
   "cell_type": "code",
   "execution_count": 39,
   "id": "b794a295",
   "metadata": {},
   "outputs": [
    {
     "data": {
      "text/plain": [
       "(4, 4)"
      ]
     },
     "execution_count": 39,
     "metadata": {},
     "output_type": "execute_result"
    }
   ],
   "source": [
    "E.shape"
   ]
  },
  {
   "cell_type": "code",
   "execution_count": null,
   "id": "c89f01bb",
   "metadata": {},
   "outputs": [],
   "source": []
  }
 ],
 "metadata": {
  "kernelspec": {
   "display_name": "Python 3 (ipykernel)",
   "language": "python",
   "name": "python3"
  },
  "language_info": {
   "codemirror_mode": {
    "name": "ipython",
    "version": 3
   },
   "file_extension": ".py",
   "mimetype": "text/x-python",
   "name": "python",
   "nbconvert_exporter": "python",
   "pygments_lexer": "ipython3",
   "version": "3.9.7"
  }
 },
 "nbformat": 4,
 "nbformat_minor": 5
}
